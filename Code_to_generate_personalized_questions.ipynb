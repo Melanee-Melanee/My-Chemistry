{
  "cells": [
    {
      "cell_type": "markdown",
      "metadata": {
        "id": "view-in-github",
        "colab_type": "text"
      },
      "source": [
        "<a href=\"https://colab.research.google.com/github/Melanee-Melanee/My-Chemistry/blob/main/Code_to_generate_personalized_questions.ipynb\" target=\"_parent\"><img src=\"https://colab.research.google.com/assets/colab-badge.svg\" alt=\"Open In Colab\"/></a>"
      ]
    },
    {
      "cell_type": "markdown",
      "source": [
        "<h1>طراحی سوالات اختصاصی دانش آموزان</h1>\n",
        "<h2>برای طراحی سوالات اختصاصی دانش آموزان خود گام های زیر را انجام دهید</h2>\n",
        "<h3> مهدی طالبی</h3>"
      ],
      "metadata": {
        "id": "Om_eXl-pTRHb"
      }
    },
    {
      "cell_type": "markdown",
      "source": [
        "دقت کنید که روزانه امکان طراحی سوال برای 50 دانش آموز امکان پذیر است\n",
        "\n",
        "\n"
      ],
      "metadata": {
        "id": "WpQ5q9pAMdMY"
      }
    },
    {
      "cell_type": "markdown",
      "metadata": {
        "id": "-V6D7pPvcWJP"
      },
      "source": [
        "#گام اول: اطلاعات دانش آموزان خود را وارد کنید\n",
        "ابتدا فایل اکسل اطلاعات دانش آموزان را از لینک زیر دانلود کنید\n",
        "\n",
        "[دانلود فایل اکسل اطلاعات دانش آموزان](https://s32.picofile.com/file/8482218276/Import_students_Information_here.xlsx.html)\n",
        "\n",
        " فایل اکسل اطلاعات دانش آموزان را مطابق اطلاعات دانش آموزان خود تکمیل کرده و در قسمت فایل ها در سمت چپ صفحه آپلود کنید.\n",
        "\n",
        "**` دقت کنید که نام فایل و عناوین جداول به هیچ عنوان تغییری نکند.`**"
      ]
    },
    {
      "cell_type": "markdown",
      "source": [
        "پس از بارگزاری فایل اکسل، سلول زیر را اجرا کنید.\n",
        "\n",
        "در حین اجرا از شما خواسته می شود که دسترسی به گوگل درایو را تایید کنید که با کلیک بر گزینه ی\n",
        "\n",
        "allow\n",
        "\n",
        "و تایید مراحل در پنجره ی باز شده دسترسی را تایید کنید.\n",
        "\n",
        "**`اگر در پایان پیغام تایید بارگزاری فایل و دسترسی گوگل درایو نمایش داده شد، به گام بعدی بروید`**"
      ],
      "metadata": {
        "id": "ZWCwb2_MWBzs"
      }
    },
    {
      "cell_type": "code",
      "source": [
        "!pip uninstall openai -y -q\n",
        "!pip install openai -q\n",
        "\n",
        "import pandas as pd\n",
        "from openai import OpenAI\n",
        "\n",
        "from google.colab import auth\n",
        "from googleapiclient.discovery import build\n",
        "from googleapiclient.http import MediaFileUpload\n",
        "import os\n",
        "\n",
        "import pandas as pd\n",
        "\n",
        "# Authenticate and initialize the Drive API\n",
        "def authenticate_drive_api():\n",
        "    auth.authenticate_user()\n",
        "    service = build('drive', 'v3')\n",
        "    return service\n",
        "\n",
        "def read_excel(file_path):\n",
        "    return pd.read_excel(file_path, sheet_name=None)\n",
        "\n",
        "try:\n",
        "    service = authenticate_drive_api()\n",
        "    print('دسترسی به گوگل درایو به درستی داده شده است')\n",
        "except:\n",
        "    raise Exception(\"دسترسی گوگل درایو به درستی تایید نشده است. لطفا سلول را مجدداً اجرا کرده و دسترسی را تایید کنید\")\n",
        "\n",
        "try:\n",
        "    file_path = \"/content/Import students Information here.xlsx\"\n",
        "    data = read_excel(file_path)\n",
        "    print('فایل اکسل به درستی بارگزاری شده است')\n",
        "except:\n",
        "    raise Exception(\"فایل اکسل اطلاعات دانش آموزان به درستی بارگزاری نشده است. لطفا مجددا طبق راهنما فایل را بارگزاری کرده و سلول را اجرا کنید\")"
      ],
      "metadata": {
        "id": "uOuMlXG-SVP-"
      },
      "execution_count": null,
      "outputs": []
    },
    {
      "cell_type": "markdown",
      "metadata": {
        "id": "phdaWtnbelto"
      },
      "source": [
        "#گام دوم: مدل زبانی را مطابق میل خود تنظیم کنید\n",
        "\n",
        "ابتدا در سایت زیر ثبت نام کرده و سپس با نام کاربری و رمز خود وارد شوید.\n",
        "\n",
        "\n",
        "www.github.com\n",
        "\n",
        "اگر در فرایند ثبت نام با مشکلی مواجه شدید، از راهنمای زیر استفاده کنید:\n",
        "\n",
        "[راهنمای ثبت نام](https://www.aparat.com/v/f244oc6)\n",
        "\n",
        "در ادامه وارد آدرس زیر شوید:\n",
        "\n",
        "https://github.com/settings/tokens\n",
        "\n",
        "حالا مسیر زیر را طی کنید تا یک رمز به شما بدهد، این رمز را کپی کرده و در زیر وارد کنید.\n",
        "\n",
        "generate new token --> generate new token (classic) --> generate token\n",
        "\n",
        "اگر در این فرایند به مشکل خوردید از آموزش زیر استفاده کنید:\n",
        "\n",
        "[آموزش نحوه ی دریافت رمز دسترسی](https://doc.kubarcloud.com/docs/kubar_details/git_private/access_token/access_token)\n",
        "\n",
        "در نهایت رمزی را که دریافت کرده اید کپی کرده و در فیلد مشخص شده ی سلول   زیر قرار دهید و آن را اجرا کنید."
      ]
    },
    {
      "cell_type": "code",
      "execution_count": 1,
      "metadata": {
        "id": "kk251tKlblJE"
      },
      "outputs": [],
      "source": [
        "# @title ورود رمز دسترسی {\"run\":\"auto\",\"display-mode\":\"form\"}\n",
        "api_key = \"\" # @param {\"type\":\"string\",\"placeholder\":\"رمز را اینجا جایگذاری کنید\"}"
      ]
    },
    {
      "cell_type": "markdown",
      "metadata": {
        "id": "7KadljdbqzGV"
      },
      "source": [
        "اسم پوشه ای از گوگل درایو که میخواهید سوالات در آن ذخیره شود را در سلول زیر وارد کرده و آنرا اجرا کنید."
      ]
    },
    {
      "cell_type": "code",
      "execution_count": null,
      "metadata": {
        "id": "vq23PqcsagmA"
      },
      "outputs": [],
      "source": [
        "# @title انتخاب نام پوشه {\"run\":\"auto\",\"display-mode\":\"form\"}\n",
        "folder_name = \"\" # @param {\"type\":\"string\",\"placeholder\":\"نام پوشه را اینجا وارد کنید\"}\n"
      ]
    },
    {
      "cell_type": "markdown",
      "metadata": {
        "id": "N43DpPxIrCMH"
      },
      "source": [
        "در سلول زیر میزان خلاقیت مدل در طراحی سوالات را تعیین کنید.\n",
        "\n",
        "هر چه این عدد بزرگتر باشد، خلاقیت مدل در طراحی سوالات بیشتر خواهد بود اما بیشتر احتمال دارد که سوالات با خطا مطرح شوند. بر عکس هر چه این عدد کوچکتر باشد خلاقیت در طراحی سوالات کمتر است ولی احتمال خطا پایین تر خواهد بود."
      ]
    },
    {
      "cell_type": "code",
      "execution_count": 4,
      "metadata": {
        "id": "pJFlUEXgbk3-"
      },
      "outputs": [],
      "source": [
        "# @title تعیین میزان خلاقیت {\"display-mode\":\"form\"}\n",
        "temp = 0.5 # @param {\"type\":\"slider\",\"min\":0,\"max\":1,\"step\":0.1}\n"
      ]
    },
    {
      "cell_type": "markdown",
      "source": [
        "در سلول زیر دامنه ی لغات برای طراحی سوالات را انتخاب کنید\n",
        "هر چه این عدد بزرگتر باشد، تعداد لغات ممکنی که مدل برای طراحی متن سوال در دسترس دارد بیشتر خواهد بود. در واقع افزایش این مقدار باعث تنوع بیشتر در لغات استفاده شده در سوالات خواهد شد."
      ],
      "metadata": {
        "id": "w2ttt3zlNL-A"
      }
    },
    {
      "cell_type": "code",
      "source": [
        "# @title تعیین دامنه ی لغات {\"run\":\"auto\",\"display-mode\":\"form\"}\n",
        "top_p = 0.6 # @param {\"type\":\"slider\",\"min\":0.5,\"max\":1,\"step\":0.1}\n"
      ],
      "metadata": {
        "id": "XGioUk9gOPp3"
      },
      "execution_count": null,
      "outputs": []
    },
    {
      "cell_type": "markdown",
      "source": [
        "<h2>نحوه ی انتخاب مقادیر خلاقیت و دامنه ی لغات</h2>\n",
        "بهترین مقدار برای خلاقیت مدل و دامنه ی لغات با آزمون و خطا به دست می آید.\n",
        "\n",
        "به عنوان مثال به نظر می رسد پایین بودن خلاقیت و بالا بودن دامنه ی لغات برای متون آموزشی و طراحی سوال مناسب تر است. چراکه پایین بودن مقدار خلاقیت مدل موجب تولید خروجی های منطقی تر و قابل استناد تر می شود. از طرفی بالا بودن دامنه ی لغات موجب می شود خروجی ها ایده ها و لغات مناسبی داشته باشند. لذا هم متن تولید شده قابل استناد است و هم جذابیت آموزشی لازم را خواهد داشت."
      ],
      "metadata": {
        "id": "KA6ECxBMQAua"
      }
    },
    {
      "cell_type": "markdown",
      "metadata": {
        "id": "otrcj4ZzsH8q"
      },
      "source": [
        "# گام سوم: مدل را اجرا کرده و منتظر بمانید تا خروجی تولید شود\n",
        "\n",
        "در پایان سلول زیر را اجرا کرده و منتظر بمانید تا تمامی سوالات طراحی شوند.\n",
        "\n",
        "**`در حین اجرا برای نخستین بار از شما درخواست میشود که برای دسترسی به گوگل درایو اجازه دهید که برای ادامه ی کار باید مراحل آنرا انجام داده و آن را تایید کنید.`**\n",
        "\n",
        "پس از اجرای موفق این سلول به گوگل درایو خود رفته و نام پوشه را جستجو کرده و سوالات را دانلود کنید.\n",
        "\n",
        "[برای ورود به گوگل درایو اینجا را کلیک کنید](https://www.drive.google.com)"
      ]
    },
    {
      "cell_type": "code",
      "execution_count": null,
      "metadata": {
        "id": "2c1fg-6KWLp6"
      },
      "outputs": [],
      "source": [
        "# This code is written by Mahdi Talebi\n",
        "# Check if the folder exists, and create it if not\n",
        "def get_or_create_folder(service, folder_name):\n",
        "    # Query to check if the folder exists\n",
        "    query = f\"name='{folder_name}' and mimeType='application/vnd.google-apps.folder' and trashed=false\"\n",
        "    results = service.files().list(q=query, spaces='drive').execute()\n",
        "    files = results.get('files', [])\n",
        "\n",
        "    if files:\n",
        "        #print(f\"Folder '{folder_name}' already exists.\")\n",
        "        return files[0]['id']\n",
        "    else:\n",
        "        # Create the folder\n",
        "        folder_metadata = {\n",
        "            'name': folder_name,\n",
        "            'mimeType': 'application/vnd.google-apps.folder'\n",
        "        }\n",
        "        folder = service.files().create(body=folder_metadata, fields='id').execute()\n",
        "        print(f\"Folder '{folder_name}' created.\")\n",
        "        return folder.get('id')\n",
        "\n",
        "# Save the file in the specified folder\n",
        "def save_file_to_drive(service, folder_id, file_path, file_name):\n",
        "    file_metadata = {\n",
        "        'name': file_name,\n",
        "        'parents': [folder_id]\n",
        "    }\n",
        "    media = MediaFileUpload(file_path, mimetype='text/html')\n",
        "    file = service.files().create(body=file_metadata, media_body=media, fields='id').execute()\n",
        "    print(f\"File '{file_name}' uploaded to folder ID '{folder_id}'.\")\n",
        "\n",
        "# Main function to handle Markdown to HTML conversion and save to Drive\n",
        "def save_markdown_with_math_to_html_in_drive(markdown_text, output_file, folder_name):\n",
        "    # Convert Markdown to HTML\n",
        "    html_content = markdown_text\n",
        "    html_template = f\"\"\"\n",
        "    <!DOCTYPE html>\n",
        "    <html lang=\"fa\" dir=\"rtl\">\n",
        "    <head>\n",
        "        <meta charset=\"UTF-8\">\n",
        "        <meta name=\"viewport\" content=\"width=device-width, initial-scale=1.0\">\n",
        "        <title>Personalized questions for you</title>\n",
        "        <script type=\"text/javascript\" async\n",
        "            src=\"https://cdn.jsdelivr.net/npm/mathjax@3/es5/tex-mml-chtml.js\">\n",
        "        </script>\n",
        "        <style>\n",
        "            body {{ font-family: B Nazanin, sans-serif; line-height: 1.6; }}\n",
        "            h1, h2, h3, h4, h5, h6 {{ font-weight: bold; }}\n",
        "            ul, ol {{ margin: 0; padding: 0 1.5em; }}\n",
        "            p {{ margin: 0.5em 0; }}\n",
        "            .math {{ text-align: center; }}\n",
        "        </style>\n",
        "    </head>\n",
        "    <body>\n",
        "        {html_content}\n",
        "    </body>\n",
        "    </html>\n",
        "    \"\"\"\n",
        "\n",
        "    # Save HTML locally\n",
        "    with open(output_file, 'w', encoding='utf-8') as file:\n",
        "        file.write(html_template)\n",
        "    print(f\"HTML file saved locally: {output_file}\")\n",
        "\n",
        "    # Authenticate and upload to Drive\n",
        "    folder_id = get_or_create_folder(service, folder_name)\n",
        "    save_file_to_drive(service, folder_id, output_file, os.path.basename(output_file))\n",
        "\n",
        "\n",
        "\n",
        "def main(api_key=api_key, folder_name=folder_name, temp=temp):\n",
        "    api_key = api_key\n",
        "\n",
        "    os.environ[\"GITHUB_TOKEN\"] = api_key\n",
        "\n",
        "    token = os.environ[\"GITHUB_TOKEN\"]\n",
        "    endpoint = \"https://models.inference.ai.azure.com\"\n",
        "    model_name = \"gpt-4o\"\n",
        "\n",
        "    client = OpenAI(\n",
        "    base_url=endpoint,\n",
        "    api_key=token,\n",
        "    )\n",
        "\n",
        "    sys_msg = f'''\n",
        "            وظیفه ی تو طراحی سوالات متناسب سطح دانش آموز با توجه به اطلاعات وارد شده از او توسط معلم است.\n",
        "            معلم میانگین نمرات امتحان دانش آموز و توضیحاتی در مورد خصوصیات دانش آموز را برای تو ارسال می کند. سپس تو باید سوالاتی مختص دانش آموز با توجه به سطح او مطرح کنی.\n",
        "\n",
        "            درس مد نظر برای طراحی سوالات: {data['مشخصات کلی سوالات']['نام درس'][0]}\n",
        "            عنوان مبحث مورد نظر برای طراحی سوالات: {data['مشخصات کلی سوالات']['نام مبحث'][0]}\n",
        "            تعداد سوالی که برای دانش آموز باید طرح کنی: {data['مشخصات کلی سوالات']['تعداد سوال به ازای هر دانش آموز'][0]}\n",
        "\n",
        "            خروجی حتماً با استفاده از تگ های html استفاده کن.\n",
        "            تنظیمات صفحه در تگ head نوشته شده است و تو باید فقط خروجی را داخل تگ body تولید کنی.\n",
        "            خروجی مستقیماً در صفحه ی وب نمایش داده می شود، پس از تگ های اچ تی ام ال برای فرمول ها و سایر قسمت ها استفاده کن.\n",
        "\n",
        "            {data['مشخصات کلی سوالات']['دستورات در مورد پاسخنامه ی سوالات'][0]}\n",
        "\n",
        "            سایر توضیحات در مورد طرح سوال که باید مد نظر باشد : {data['مشخصات کلی سوالات']['دستورات کمکی در مورد نحوه ی طراحی سوال'][0]}\n",
        "            '''\n",
        "\n",
        "    for _, row in data['مشخصات فردی دانش آموزان'].iterrows():\n",
        "        print(f'Processing student: {row[\"نام و نام خانوادگی دانش آموز\"]}' )\n",
        "\n",
        "        user_msg = f'''\n",
        "        نام دانش آموز: {row['نام و نام خانوادگی دانش آموز']}\n",
        "        میانگین نمره ی دانش آموز از 20 نمره: {row['میانگین نمره ی دانش آموز از 20 نمره']}\n",
        "        توضیحات در مورد عملکرد و ویژگی های دانش آموز: {row['توضیحات']}\n",
        "        '''\n",
        "\n",
        "        response = client.chat.completions.create(\n",
        "            messages=[\n",
        "                {\n",
        "                    'role':'system',\n",
        "                    'content': sys_msg,\n",
        "                },\n",
        "                {\n",
        "                    'role': 'user',\n",
        "                    'content': user_msg,\n",
        "                }\n",
        "            ],\n",
        "            temperature=temp,\n",
        "            top_p=top_p,\n",
        "            model=model_name\n",
        "        )\n",
        "\n",
        "        response = response.choices[0].message.content\n",
        "\n",
        "        # Output HTML file\n",
        "        student_name = row[\"نام و نام خانوادگی دانش آموز\"]\n",
        "        output_file = f\"{student_name}.html\"\n",
        "\n",
        "        # Convert and save the Markdown text as an HTML file\n",
        "        save_markdown_with_math_to_html_in_drive(response, output_file, folder_name)\n",
        "\n",
        "if __name__ == \"__main__\":\n",
        "    main()"
      ]
    },
    {
      "cell_type": "markdown",
      "source": [
        "<h3>طراحی شده با 💗 توسط مهدی طالبی</h3>\n",
        "\n",
        "https://github.com/m-talebi/personalized-learning"
      ],
      "metadata": {
        "id": "ZV005JYnzkPE"
      }
    }
  ],
  "metadata": {
    "colab": {
      "provenance": [],
      "include_colab_link": true
    },
    "kernelspec": {
      "display_name": "Python 3",
      "name": "python3"
    },
    "language_info": {
      "codemirror_mode": {
        "name": "ipython",
        "version": 3
      },
      "file_extension": ".py",
      "mimetype": "text/x-python",
      "name": "python",
      "nbconvert_exporter": "python",
      "pygments_lexer": "ipython3",
      "version": "3.11.8"
    }
  },
  "nbformat": 4,
  "nbformat_minor": 0
}